{
 "cells": [
  {
   "cell_type": "markdown",
   "id": "2a3e0b2d",
   "metadata": {},
   "source": [
    "## 1.\tImplement k-means from scratch"
   ]
  },
  {
   "cell_type": "markdown",
   "id": "59d41b01",
   "metadata": {},
   "source": [
    "You are given a dataset X whose rows represent different data points, you are asked to perform a k-means clustering on this dataset using the Manhattan Distance, k is chosen as 3. \n",
    "\n",
    "\n",
    "X = [[5.7, 64], [4.7, 58], [6.1, 56], [4.6, 64], [5.4, 84], [4.9, 60], [5.0, 62], [6.4, 62], [5.1, 76], [6.0, 60]]\n",
    "\n",
    "Note: \n",
    "The Manhattan Distance of 〖(x〗_1,y_1) and 〖(x〗_2,y_2) is calculated by\n",
    "Dist= |x_1- x_2 |+ |y_1- y_2 |.\n",
    "\n",
    "\n",
    "a. \n",
    "Since first column and second column are not on the same scale. Before running K-means, this dataset needs to be preprocessed, Show the preprocessed dataset. (Answer in the format of [x1, x2], round your results to two decimal places, same as problems b and c)\n"
   ]
  },
  {
   "cell_type": "code",
   "execution_count": 1,
   "id": "cd2cf549",
   "metadata": {},
   "outputs": [
    {
     "name": "stdout",
     "output_type": "stream",
     "text": [
      "[[0.61 0.29]\n",
      " [0.06 0.07]\n",
      " [0.83 0.  ]\n",
      " [0.   0.29]\n",
      " [0.44 1.  ]\n",
      " [0.17 0.14]\n",
      " [0.22 0.21]\n",
      " [1.   0.21]\n",
      " [0.28 0.71]\n",
      " [0.78 0.14]]\n",
      "[[0.61 0.29]\n",
      " [0.06 0.07]\n",
      " [0.83 0.  ]\n",
      " [0.   0.29]\n",
      " [0.44 1.  ]\n",
      " [0.17 0.14]\n",
      " [0.22 0.21]\n",
      " [1.   0.21]\n",
      " [0.28 0.71]\n",
      " [0.78 0.14]]\n"
     ]
    }
   ],
   "source": [
    "import numpy as np\n",
    "\n",
    "# Given dataset X\n",
    "X = np.array([[5.7, 64], [4.7, 58], [6.1, 56], [4.6, 64], [5.4, 84], [4.9, 60], [5.0, 62], [6.4, 62], [5.1, 76], [6.0, 60]])\n",
    "\n",
    "# Preprocess the dataset\n",
    "min_vals = np.min(X, axis=0)\n",
    "max_vals = np.max(X, axis=0)\n",
    "\n",
    "X_scaled = (X - min_vals) / (max_vals - min_vals)\n",
    "\n",
    "# Round the results to two decimal places\n",
    "X_scaled = np.round(X_scaled,2)\n",
    "\n",
    "print(X_scaled)\n"
   ]
  },
  {
   "cell_type": "markdown",
   "id": "1c6c912b",
   "metadata": {},
   "source": [
    " "
   ]
  },
  {
   "cell_type": "markdown",
   "id": "528cb7ac",
   "metadata": {},
   "source": [
    "b. \tSuppose the initial centroids of the clusters are μ_1=[5.6,60],μ_2=[5.9,60],〖 μ〗_3=[5.2,75] . What’s the center of the second cluster after two iterations?"
   ]
  },
  {
   "cell_type": "code",
   "execution_count": 2,
   "id": "d98681ec",
   "metadata": {},
   "outputs": [
    {
     "name": "stdout",
     "output_type": "stream",
     "text": [
      "Iteration 1 - Centroids:\n",
      "Cluster 1: [0.439 0.306]\n",
      "Cluster 2: [ 5.9 60. ]\n",
      "Cluster 3: [ 5.2 75. ]\n",
      "Iteration 2 - Centroids:\n",
      "Cluster 1: [0.439 0.306]\n",
      "Cluster 2: [ 5.9 60. ]\n",
      "Cluster 3: [ 5.2 75. ]\n",
      "\n",
      "Centroids after convergence:\n",
      "Cluster 1: [0.439 0.306]\n",
      "Cluster 2: [ 5.9 60. ]\n",
      "Cluster 3: [ 5.2 75. ]\n",
      "Number of iterations: 2\n",
      "Iteration 1 - Centroids:\n",
      "Cluster 1: [0.439 0.306]\n",
      "Cluster 2: [ 5.9 60. ]\n",
      "Cluster 3: [ 5.2 75. ]\n",
      "Iteration 2 - Centroids:\n",
      "Cluster 1: [0.439 0.306]\n",
      "Cluster 2: [ 5.9 60. ]\n",
      "Cluster 3: [ 5.2 75. ]\n",
      "\n",
      "Centroids after convergence:\n",
      "Cluster 1: [0.439 0.306]\n",
      "Cluster 2: [ 5.9 60. ]\n",
      "Cluster 3: [ 5.2 75. ]\n",
      "Number of iterations: 2\n"
     ]
    }
   ],
   "source": [
    "import numpy as np\n",
    "\n",
    "# Given initial centroids\n",
    "mu_1 = np.array([5.6, 60])\n",
    "mu_2 = np.array([5.9, 60])\n",
    "mu_3 = np.array([5.2, 75])\n",
    "\n",
    "# Function to calculate Manhattan distance\n",
    "def manhattan_distance(point1, point2):\n",
    "    return np.sum(np.abs(point1 - point2))\n",
    "\n",
    "# Function to assign each point to the nearest centroid\n",
    "def assign_to_clusters(X, centroids):\n",
    "    clusters = []\n",
    "    for point in X:\n",
    "        distances = [manhattan_distance(point, centroid) for centroid in centroids]\n",
    "        cluster = np.argmin(distances)\n",
    "        clusters.append(cluster)\n",
    "    return np.array(clusters)\n",
    "\n",
    "# Function to update centroids based on the mean of points in each cluster\n",
    "def update_centroids(X, clusters, k, current_centroids):\n",
    "    new_centroids = []\n",
    "    for i in range(k):\n",
    "        cluster_points = X[clusters == i]\n",
    "        if len(cluster_points) > 0:\n",
    "            new_centroid = np.mean(cluster_points, axis=0)\n",
    "            new_centroids.append(new_centroid)\n",
    "        else:\n",
    "            new_centroids.append(current_centroids[i])\n",
    "    return np.array(new_centroids)\n",
    "\n",
    "# K-Means iterations\n",
    "max_iterations = 100\n",
    "for iteration in range(max_iterations):\n",
    "    # Assign points to clusters\n",
    "    clusters = assign_to_clusters(X_scaled, [mu_1, mu_2, mu_3])\n",
    "\n",
    "    # Update centroids\n",
    "    new_mu_1, new_mu_2, new_mu_3 = update_centroids(X_scaled, clusters, 3, [mu_1, mu_2, mu_3])\n",
    "\n",
    "    # Print centroids for each iteration\n",
    "    print(f\"Iteration {iteration + 1} - Centroids:\")\n",
    "    print(\"Cluster 1:\", new_mu_1)\n",
    "    print(\"Cluster 2:\", new_mu_2)\n",
    "    print(\"Cluster 3:\", new_mu_3)\n",
    "\n",
    "    # Check for convergence\n",
    "    if np.array_equal(new_mu_1, mu_1) and np.array_equal(new_mu_2, mu_2) and np.array_equal(new_mu_3, mu_3):\n",
    "        break\n",
    "\n",
    "    mu_1, mu_2, mu_3 = new_mu_1, new_mu_2, new_mu_3\n",
    "\n",
    "# Results after convergence\n",
    "print(\"\\nCentroids after convergence:\")\n",
    "print(\"Cluster 1:\", mu_1)\n",
    "print(\"Cluster 2:\", mu_2)\n",
    "print(\"Cluster 3:\", mu_3)\n",
    "print(\"Number of iterations:\", iteration + 1)\n"
   ]
  },
  {
   "cell_type": "markdown",
   "id": "83c6339c",
   "metadata": {},
   "source": [
    " "
   ]
  },
  {
   "cell_type": "markdown",
   "id": "fc95c291",
   "metadata": {},
   "source": [
    "c.\tWhat’s the center of the third cluster when the clustering converges?"
   ]
  },
  {
   "cell_type": "code",
   "execution_count": 3,
   "id": "bdf292e2",
   "metadata": {},
   "outputs": [
    {
     "name": "stdout",
     "output_type": "stream",
     "text": [
      "Center of the third cluster when converges: [ 5.2 75. ]\n",
      "Center of the third cluster when converges: [ 5.2 75. ]\n"
     ]
    }
   ],
   "source": [
    "# The center of the third cluster when the clustering converges\n",
    "print(\"Center of the third cluster when converges:\", mu_3)"
   ]
  },
  {
   "cell_type": "code",
   "execution_count": 4,
   "id": "77319779",
   "metadata": {},
   "outputs": [
    {
     "name": "stdout",
     "output_type": "stream",
     "text": [
      "Clusters converged after 2 iterations.\n",
      "Centroids after convergence:\n",
      "Cluster 1: [0.439 0.306]\n",
      "Cluster 2: [ 5.9 60. ]\n",
      "Cluster 3: [ 5.2 75. ]\n",
      "Clusters converged after 2 iterations.\n",
      "Centroids after convergence:\n",
      "Cluster 1: [0.439 0.306]\n",
      "Cluster 2: [ 5.9 60. ]\n",
      "Cluster 3: [ 5.2 75. ]\n"
     ]
    }
   ],
   "source": [
    "# Reset centroids to the initial values\n",
    "mu_1 = np.array([5.6, 60])\n",
    "mu_2 = np.array([5.9, 60])\n",
    "mu_3 = np.array([5.2, 75])\n",
    "\n",
    "# K-Means iterations\n",
    "max_iterations = 100\n",
    "converged = False\n",
    "\n",
    "for iteration in range(max_iterations):\n",
    "    # Assign points to clusters\n",
    "    clusters = assign_to_clusters(X_scaled, [mu_1, mu_2, mu_3])\n",
    "\n",
    "    # Update centroids\n",
    "    new_mu_1, new_mu_2, new_mu_3 = update_centroids(X_scaled, clusters, 3, [mu_1, mu_2, mu_3])\n",
    "\n",
    "    # Check for convergence\n",
    "    if np.array_equal(new_mu_1, mu_1) and np.array_equal(new_mu_2, mu_2) and np.array_equal(new_mu_3, mu_3):\n",
    "        converged = True\n",
    "        break\n",
    "\n",
    "    mu_1, mu_2, mu_3 = new_mu_1, new_mu_2, new_mu_3\n",
    "\n",
    "# Print the results\n",
    "if converged:\n",
    "    print(\"Clusters converged after\", iteration + 1, \"iterations.\")\n",
    "    print(\"Centroids after convergence:\")\n",
    "    print(\"Cluster 1:\", mu_1)\n",
    "    print(\"Cluster 2:\", mu_2)\n",
    "    print(\"Cluster 3:\", mu_3)\n",
    "else:\n",
    "    print(\"Clusters did not converge within the maximum number of iterations.\")"
   ]
  },
  {
   "cell_type": "markdown",
   "id": "1d195d2d",
   "metadata": {},
   "source": [
    "## 2.\tHierarchical Clustering"
   ]
  },
  {
   "cell_type": "markdown",
   "id": "d6f9c02d",
   "metadata": {},
   "source": [
    "Suppose there are two clusters A (red) and B (blue), each has four members and plotted in Figure below, compute the distance between two clusters using Euclidean distance.\n",
    "\n",
    "![Alt Text](graph.jpg)\n"
   ]
  },
  {
   "cell_type": "markdown",
   "id": "55982ad4",
   "metadata": {},
   "source": [
    "a.\tWhat is the distance between the two farthest members (Complete-link) (round to four decimal places here, and next 2 problems)?\n",
    "\n",
    "Answer:"
   ]
  },
  {
   "cell_type": "markdown",
   "id": "e25a3c87",
   "metadata": {},
   "source": [
    "Finding the maximum Euclidean distance between any pair of members—where each member is from a different cluster—is necessary in order to determine the distance between two clusters using complete-linkage (or complete-link) hierarchical clustering. The maximum distance between any two members is therefore the distance between two clusters."
   ]
  },
  {
   "cell_type": "code",
   "execution_count": 5,
   "id": "463056bf",
   "metadata": {},
   "outputs": [
    {
     "name": "stdout",
     "output_type": "stream",
     "text": [
      "The distance between the two farthest members (Complete-link): 2.1095\n",
      "The distance between the two farthest members (Complete-link): 2.1095\n"
     ]
    }
   ],
   "source": [
    "import numpy as np\n",
    "# Cluster A (red)\n",
    "A = np.array([[4.7, 3.2], [4.9, 3.1], [5.0, 3.0], [4.6, 2.9]])\n",
    "# Cluster B (blue)\n",
    "B = np.array([[5.9, 3.2], [6.0, 3.0], [6.2, 2.8], [6.7, 3.1]])\n",
    "\n",
    "# Function to calculate Euclidean distance between two points\n",
    "def euclidean_distance(point1, point2):\n",
    "    return np.sqrt(np.sum((point1 - point2)**2))\n",
    "\n",
    "# Calculate the complete-link distance between the two clusters\n",
    "complete_link_distances = []\n",
    "for point_A in A:\n",
    "    for point_B in B:\n",
    "        distance = euclidean_distance(point_A, point_B)\n",
    "        complete_link_distances.append(distance)\n",
    "\n",
    "# Find the maximum distance (complete-link)\n",
    "max_complete_link_distance = np.max(complete_link_distances)\n",
    "\n",
    "# Round the result to four decimal places\n",
    "max_complete_link_distance = round(max_complete_link_distance, 4)\n",
    "print(\"The distance between the two farthest members (Complete-link):\", max_complete_link_distance)"
   ]
  },
  {
   "cell_type": "markdown",
   "id": "93a69901",
   "metadata": {},
   "source": [
    "b.\tWhat is the distance between the two closest members (Single-link)?\n",
    "\n",
    "Answer:\n",
    "The distance between two clusters is then the minimum distance between any pair of members."
   ]
  },
  {
   "cell_type": "code",
   "execution_count": 6,
   "id": "f80b85a3",
   "metadata": {},
   "outputs": [
    {
     "name": "stdout",
     "output_type": "stream",
     "text": [
      "The distance between the two closest members (Single-link): 0.922\n",
      "The distance between the two closest members (Single-link): 0.922\n"
     ]
    }
   ],
   "source": [
    "import numpy as np\n",
    "\n",
    "# Cluster A (red)\n",
    "A = np.array([[4.7, 3.2], [4.9, 3.1], [5.0, 3.0], [4.6, 2.9]])\n",
    "# Cluster B (blue)\n",
    "B = np.array([[5.9, 3.2], [6.0, 3.0], [6.2, 2.8], [6.7, 3.1]])\n",
    "\n",
    "# Function to calculate Euclidean distance between two points\n",
    "def euclidean_distance(point1, point2):\n",
    "    return np.sqrt(np.sum((point1 - point2)**2))\n",
    "\n",
    "# Calculate the single-link distance between the two clusters\n",
    "single_link_distances = []\n",
    "for point_A in A:\n",
    "    for point_B in B:\n",
    "        distance = euclidean_distance(point_A, point_B)\n",
    "        single_link_distances.append(distance)\n",
    "\n",
    "# Find the minimum distance (single-link)\n",
    "min_single_link_distance = np.min(single_link_distances)\n",
    "# Round the result to four decimal places\n",
    "min_single_link_distance = round(min_single_link_distance, 4)\n",
    "\n",
    "print(\"The distance between the two closest members (Single-link):\", min_single_link_distance)"
   ]
  },
  {
   "cell_type": "markdown",
   "id": "d32a0d1b",
   "metadata": {},
   "source": [
    " \n",
    " "
   ]
  },
  {
   "cell_type": "markdown",
   "id": "ead52fa4",
   "metadata": {},
   "source": [
    "c.\tWhat is the average distance between all pairs (Average-link)?\n",
    "\n",
    "\n",
    "Answer: In order to find the distance between two clusters using average-linkage (or average-link) hierarchical clustering, you need to find the average Euclidean distance between all pairs of members, where each member is from a different cluster. The distance between two clusters is then the average distance between all pairs of members."
   ]
  },
  {
   "cell_type": "code",
   "execution_count": 7,
   "id": "3f8f9b3f",
   "metadata": {},
   "outputs": [
    {
     "name": "stdout",
     "output_type": "stream",
     "text": [
      "Distance calculation for each pair:\n",
      "Distance between A[0] and B[0]: 1.2000000000000002\n",
      "Distance between A[0] and B[1]: 1.3152946437965904\n",
      "Distance between A[0] and B[2]: 1.5524174696260025\n",
      "Distance between A[0] and B[3]: 2.0024984394500787\n",
      "Distance between A[1] and B[0]: 1.004987562112089\n",
      "Distance between A[1] and B[1]: 1.1045361017187258\n",
      "Distance between A[1] and B[2]: 1.3341664064126333\n",
      "Distance between A[1] and B[3]: 1.7999999999999998\n",
      "Distance between A[2] and B[0]: 0.9219544457292891\n",
      "Distance between A[2] and B[1]: 1.0\n",
      "Distance between A[2] and B[2]: 1.216552506059644\n",
      "Distance between A[2] and B[3]: 1.7029386365926404\n",
      "Distance between A[3] and B[0]: 1.3341664064126342\n",
      "Distance between A[3] and B[1]: 1.4035668847618203\n",
      "Distance between A[3] and B[2]: 1.6031219541881403\n",
      "Distance between A[3] and B[3]: 2.109502310972899\n",
      "\n",
      "Average distance between all pairs (Average-link): 1.4129\n",
      "Distance calculation for each pair:\n",
      "Distance between A[0] and B[0]: 1.2000000000000002\n",
      "Distance between A[0] and B[1]: 1.3152946437965904\n",
      "Distance between A[0] and B[2]: 1.5524174696260025\n",
      "Distance between A[0] and B[3]: 2.0024984394500787\n",
      "Distance between A[1] and B[0]: 1.004987562112089\n",
      "Distance between A[1] and B[1]: 1.1045361017187258\n",
      "Distance between A[1] and B[2]: 1.3341664064126333\n",
      "Distance between A[1] and B[3]: 1.7999999999999998\n",
      "Distance between A[2] and B[0]: 0.9219544457292891\n",
      "Distance between A[2] and B[1]: 1.0\n",
      "Distance between A[2] and B[2]: 1.216552506059644\n",
      "Distance between A[2] and B[3]: 1.7029386365926404\n",
      "Distance between A[3] and B[0]: 1.3341664064126342\n",
      "Distance between A[3] and B[1]: 1.4035668847618203\n",
      "Distance between A[3] and B[2]: 1.6031219541881403\n",
      "Distance between A[3] and B[3]: 2.109502310972899\n",
      "\n",
      "Average distance between all pairs (Average-link): 1.4129\n"
     ]
    }
   ],
   "source": [
    "import numpy as np\n",
    "\n",
    "# Cluster A (red)\n",
    "A = np.array([[4.7, 3.2], [4.9, 3.1], [5.0, 3.0], [4.6, 2.9]])\n",
    "# Cluster B (blue)\n",
    "B = np.array([[5.9, 3.2], [6.0, 3.0], [6.2, 2.8], [6.7, 3.1]])\n",
    "\n",
    "# Function to calculate Euclidean distance between two points\n",
    "def euclidean_distance(point1, point2):\n",
    "    return np.sqrt(np.sum((point1 - point2)**2))\n",
    "\n",
    "# Calculate and print the distance for each pair\n",
    "average_link_distances = []\n",
    "print(\"Distance calculation for each pair:\")\n",
    "for i, point_A in enumerate(A):\n",
    "    for j, point_B in enumerate(B):\n",
    "        distance = euclidean_distance(point_A, point_B)\n",
    "        average_link_distances.append(distance)\n",
    "        print(f\"Distance between A[{i}] and B[{j}]: {distance}\")\n",
    "\n",
    "# Calculate the average distance (average-link)\n",
    "average_link_distance = np.mean(average_link_distances)\n",
    "# Round the result to four decimal places\n",
    "average_link_distance = round(average_link_distance, 4)\n",
    "\n",
    "print(\"\\nAverage distance between all pairs (Average-link):\", average_link_distance)"
   ]
  },
  {
   "cell_type": "markdown",
   "id": "db41dcb4",
   "metadata": {},
   "source": [
    " "
   ]
  },
  {
   "cell_type": "markdown",
   "id": "7307f5a6",
   "metadata": {},
   "source": [
    "d.\tAmong all three distances above, which one is robust to noise?\n",
    "\n",
    "Answer:\n",
    "\n",
    "In hierarchical clustering, three distances are used: complete-link, single-link, and average-link. Of these, the average-link distance is typically thought to be more noise-resistant than the complete-link and single-link distances.\n",
    "\n",
    "This is because the average-link distance measures the average separation between every pair of points from every cluster. Compared to complete-link and single-link distances, which are impacted by the maximum and minimum distances, respectively, it is therefore less susceptible to outliers or noisy data points.\n",
    "\n",
    "For this reason, when a dataset has noise or outliers, the average-link distance is frequently chosen. By taking into account the total distribution of point-to-point distances, it offers a more impartial estimate of cluster similarity."
   ]
  }
 ],
 "metadata": {
  "kernelspec": {
   "display_name": "Python 3 (ipykernel)",
   "language": "python",
   "name": "python3"
  },
  "language_info": {
   "codemirror_mode": {
    "name": "ipython",
    "version": 3
   },
   "file_extension": ".py",
   "mimetype": "text/x-python",
   "name": "python",
   "nbconvert_exporter": "python",
   "pygments_lexer": "ipython3",
   "version": "3.10.9"
  }
 },
 "nbformat": 4,
 "nbformat_minor": 5
}
